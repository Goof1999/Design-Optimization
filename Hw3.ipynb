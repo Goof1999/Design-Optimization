{
  "nbformat": 4,
  "nbformat_minor": 0,
  "metadata": {
    "colab": {
      "provenance": [],
      "collapsed_sections": [],
      "authorship_tag": "ABX9TyMeOUq5eE/VTL5SQAG8kylj",
      "include_colab_link": true
    },
    "kernelspec": {
      "name": "python3",
      "display_name": "Python 3"
    },
    "language_info": {
      "name": "python"
    }
  },
  "cells": [
    {
      "cell_type": "markdown",
      "metadata": {
        "id": "view-in-github",
        "colab_type": "text"
      },
      "source": [
        "<a href=\"https://colab.research.google.com/github/Goof1999/Design-Optimization/blob/main/Hw3.ipynb\" target=\"_parent\"><img src=\"https://colab.research.google.com/assets/colab-badge.svg\" alt=\"Open In Colab\"/></a>"
      ]
    },
    {
      "cell_type": "markdown",
      "source": [
        "Importing libraries"
      ],
      "metadata": {
        "id": "Svqgs7HVXCfW"
      }
    },
    {
      "cell_type": "code",
      "execution_count": 91,
      "metadata": {
        "id": "T3dCwYm7Uz_p"
      },
      "outputs": [],
      "source": [
        "import torch as tr\n",
        "import numpy as np\n",
        "from torch.autograd import Variable"
      ]
    },
    {
      "cell_type": "markdown",
      "source": [
        "Setting up the problem"
      ],
      "metadata": {
        "id": "Kd4iQuR8XFqs"
      }
    },
    {
      "cell_type": "code",
      "source": [
        "x1 = np.array([0.0, 0.1, 0.2, 0.3, 0.4, 0.5, 0.6, 0.7, 0.8, 0.9, 1.0])\n",
        "x2 = 1-x1\n",
        "x1 = tr.tensor(x1, requires_grad=False, dtype=tr.float32)\n",
        "x2 = tr.tensor(x2, requires_grad=False, dtype=tr.float32)\n",
        "a=np.array([[8.07131, 1730.63, 233.426], [7.43155, 1554.679, 240.337]])\n",
        "T = 20 # C to K\n",
        "psat_w = 10**(a[0,0]-a[0,1]/(T+a[0,2]))\n",
        "psat_di = 10**(a[1,0]-a[1,1]/(T+a[1,2]))\n",
        "p = np.array([28.1, 34.4, 36.7, 36.9, 36.8, 36.7, 36.5, 35.4, 32.9, 27.7, 17.5])\n",
        "p = tr.tensor(p, requires_grad=False, dtype=tr.float32)\n",
        "\n",
        "# Inital guess for A is (1,1)\n",
        "A = Variable(tr.tensor([1.0, 1.0]), requires_grad=True)\n"
      ],
      "metadata": {
        "id": "5WbTaODdVY-i"
      },
      "execution_count": 92,
      "outputs": []
    },
    {
      "cell_type": "code",
      "source": [
        "c = 0.0001\n",
        "for i in range(1000):\n",
        "  pred = x1*tr.exp(A[0] * (A[1] * x2 / (A[0] * x1 + A[1] * x2))**2)*psat_w + x2*tr.exp(A[1] * (A[0] * x1 / (A[0] * x1 + A[1] * x2))**2)*psat_di\n",
        "\n",
        "  loss = (pred-p)**2\n",
        "  loss = loss.sum()\n",
        "\n",
        "  loss.backward()\n",
        "\n",
        "  with tr.no_grad():\n",
        "    A -= c*A.grad\n",
        "    A.grad.zero_()\n",
        "\n",
        "print(A.data.numpy())\n",
        "print(loss.data.numpy())"
      ],
      "metadata": {
        "colab": {
          "base_uri": "https://localhost:8080/"
        },
        "id": "4r7UbJ1wWwLO",
        "outputId": "66ffaade-f0b2-4abd-f999-cee5955b12bc"
      },
      "execution_count": 93,
      "outputs": [
        {
          "output_type": "stream",
          "name": "stdout",
          "text": [
            "[1.9584141 1.68919  ]\n",
            "0.67018914\n"
          ]
        }
      ]
    },
    {
      "cell_type": "code",
      "source": [
        "pred"
      ],
      "metadata": {
        "colab": {
          "base_uri": "https://localhost:8080/"
        },
        "id": "SYjDV-ygZPxw",
        "outputId": "87e8faf4-0f31-40f8-e632-5c4420653e3c"
      },
      "execution_count": 94,
      "outputs": [
        {
          "output_type": "execute_result",
          "data": {
            "text/plain": [
              "tensor([28.8241, 34.6443, 36.4530, 36.8673, 36.8740, 36.7498, 36.3904, 35.3848,\n",
              "        32.9478, 27.7300, 17.4733], grad_fn=<AddBackward0>)"
            ]
          },
          "metadata": {},
          "execution_count": 94
        }
      ]
    },
    {
      "cell_type": "code",
      "source": [
        "import matplotlib.pyplot as plt"
      ],
      "metadata": {
        "id": "_dR5kATGgoF_"
      },
      "execution_count": 95,
      "outputs": []
    },
    {
      "cell_type": "code",
      "source": [
        "plt.plot(x1, pred.data.numpy(),label='Predicted pressure')\n",
        "plt.plot(x1, p.data.numpy(),label='Given pressure data')\n",
        "plt.legend()\n",
        "plt.xlabel('x1')\n",
        "plt.ylabel('Pressure')"
      ],
      "metadata": {
        "colab": {
          "base_uri": "https://localhost:8080/",
          "height": 297
        },
        "id": "LdKV9kU4hEVu",
        "outputId": "a7ccdef8-834f-4053-f7c1-e3474dfc59b8"
      },
      "execution_count": 96,
      "outputs": [
        {
          "output_type": "execute_result",
          "data": {
            "text/plain": [
              "Text(0, 0.5, 'Pressure')"
            ]
          },
          "metadata": {},
          "execution_count": 96
        },
        {
          "output_type": "display_data",
          "data": {
            "text/plain": [
              "<Figure size 432x288 with 1 Axes>"
            ],
            "image/png": "[encoded data removed]"
          },
          "metadata": {
            "needs_background": "light"
          }
        }
      ]
    },
    {
      "cell_type": "code",
      "source": [],
      "metadata": {
        "id": "9eZHnVFxhcf1"
      },
      "execution_count": null,
      "outputs": []
    }
  ]
}