{
  "nbformat": 4,
  "nbformat_minor": 0,
  "metadata": {
    "colab": {
      "provenance": [],
      "collapsed_sections": []
    },
    "kernelspec": {
      "name": "python3",
      "display_name": "Python 3"
    },
    "language_info": {
      "name": "python"
    }
  },
  "cells": [
    {
      "cell_type": "markdown",
      "source": [
        "MAE 598: Design Optimization\n",
        "ASU ID: 1223508715\n",
        "HW2 Solution"
      ],
      "metadata": {
        "id": "EGDkWc_26bQB"
      }
    },
    {
      "cell_type": "markdown",
      "source": [
        "Problem 2 b)\n",
        "Importing libraries to use"
      ],
      "metadata": {
        "id": "JTf_HWw-l9b4"
      }
    },
    {
      "cell_type": "code",
      "source": [
        "import numpy as np\n",
        "from matplotlib import pyplot as plt"
      ],
      "metadata": {
        "id": "AVy3KFMqBQO9"
      },
      "execution_count": 40,
      "outputs": []
    },
    {
      "cell_type": "markdown",
      "source": [
        "Defining functions for main function and Gradient function"
      ],
      "metadata": {
        "id": "aktLatz1l8jA"
      }
    },
    {
      "cell_type": "code",
      "source": [
        "def f(x):\n",
        "  y=(-2*x[0]-3*x[1]+2)**2 + x[0]**2 + (x[1]-1)**2\n",
        "  return y"
      ],
      "metadata": {
        "id": "qkKE81KWD34t"
      },
      "execution_count": 41,
      "outputs": []
    },
    {
      "cell_type": "code",
      "source": [
        "def g(x):\n",
        "  p=[\n",
        "      10*x[0]+12*x[1]-8,\n",
        "     12*x[0]+20*x[1]-14\n",
        "  ]\n",
        "  return np.array(p)"
      ],
      "metadata": {
        "id": "MFSjTdRZH1TD"
      },
      "execution_count": 42,
      "outputs": []
    },
    {
      "cell_type": "markdown",
      "source": [
        "Initialising initial variables"
      ],
      "metadata": {
        "id": "gW-8BVnMmxKl"
      }
    },
    {
      "cell_type": "code",
      "source": [
        "t=0.5\n",
        "alpha=1\n",
        "x0 = np.array([6,7])"
      ],
      "metadata": {
        "id": "XCzpkHj3HFdb"
      },
      "execution_count": 43,
      "outputs": []
    },
    {
      "cell_type": "markdown",
      "source": [
        "Algorithm for Gradient Descent using defined parameters"
      ],
      "metadata": {
        "id": "F1HQpKnsw6Eu"
      }
    },
    {
      "cell_type": "code",
      "source": [
        "F=[]\n",
        "F.append(f(x0))\n",
        "G = np.linalg.norm(g(x0))\n",
        "\n",
        "while G>1e-6:\n",
        "\n",
        "  i=0\n",
        "  while f(x0 - alpha*g(x0))>(f(x0)-t*alpha*np.matmul(np.transpose(g(x0)),g(x0))):\n",
        "    alpha=0.5*alpha\n",
        "    G=np.linalg.norm(g(x0))\n",
        "    i += 1\n",
        "    if i==100:\n",
        "      break\n",
        "\n",
        "  x0 = x0 - alpha*g(x0)\n",
        "  F.append(f(x0))\n",
        "  G = np.linalg.norm(g(x0))\n",
        "  alpha = 1\n",
        "\n",
        "F=np.array(F)\n",
        "\n",
        "print('the final converged point is', x0)"
      ],
      "metadata": {
        "id": "d5_WnhRZx-Bq",
        "colab": {
          "base_uri": "https://localhost:8080/"
        },
        "outputId": "3ea0804e-f258-4b80-bada-5d9b0deee755"
      },
      "execution_count": 44,
      "outputs": [
        {
          "output_type": "stream",
          "name": "stdout",
          "text": [
            "the final converged point is [-0.14285689  0.78571413]\n"
          ]
        }
      ]
    },
    {
      "cell_type": "markdown",
      "source": [
        "Defining the function for log linear plot using the calculated function values above and plotting them."
      ],
      "metadata": {
        "id": "UZj_dvZNyXr7"
      }
    },
    {
      "cell_type": "code",
      "source": [
        "def plotfunc(F):\n",
        "  plt.plot(np.array([*range(1,len(F),1)]),np.log10(F[0:len(F)-1]-F[len(F)-1]))\n",
        "  plt.xlabel('k-steps')\n",
        "  plt.ylabel('log(Error)')\n",
        "  return plt.show"
      ],
      "metadata": {
        "id": "Xzu0SYsLfVlg"
      },
      "execution_count": 45,
      "outputs": []
    },
    {
      "cell_type": "code",
      "source": [
        "plotfunc(F)"
      ],
      "metadata": {
        "colab": {
          "base_uri": "https://localhost:8080/",
          "height": 296
        },
        "id": "5EgJ8XqDfkUL",
        "outputId": "718001e7-ec7e-43c2-8ac9-1a4eeb2b66ee"
      },
      "execution_count": 46,
      "outputs": [
        {
          "output_type": "execute_result",
          "data": {
            "text/plain": [
              "<function matplotlib.pyplot.show(*args, **kw)>"
            ]
          },
          "metadata": {},
          "execution_count": 46
        },
        {
          "output_type": "display_data",
          "data": {
            "text/plain": [
              "<Figure size 432x288 with 1 Axes>"
            ],
            "image/png": "[encoded data removed]"
          },
          "metadata": {
            "needs_background": "light"
          }
        }
      ]
    },
    {
      "cell_type": "markdown",
      "source": [
        "Changing the initial point and again calculating the GD algorithm"
      ],
      "metadata": {
        "id": "0Gv64-sHx4iM"
      }
    },
    {
      "cell_type": "code",
      "source": [
        "t=0.5\n",
        "alpha=1\n",
        "x0 = np.array([1,1])\n",
        "\n",
        "F=[]\n",
        "F.append(f(x0))\n",
        "G = np.linalg.norm(g(x0))\n",
        "\n",
        "while G>1e-6:\n",
        "\n",
        "  i=0\n",
        "  while f(x0 - alpha*g(x0))>(f(x0)-t*alpha*np.matmul(np.transpose(g(x0)),g(x0))):\n",
        "    alpha=0.5*alpha\n",
        "    G=np.linalg.norm(g(x0))\n",
        "    i += 1\n",
        "    if i==100:\n",
        "      break\n",
        "\n",
        "  x0 = x0 - alpha*g(x0)\n",
        "  F.append(f(x0))\n",
        "  G = np.linalg.norm(g(x0))\n",
        "  alpha = 1\n",
        "\n",
        "F=np.array(F)\n",
        "\n",
        "print('the final converged point for new parameters is', x0)"
      ],
      "metadata": {
        "colab": {
          "base_uri": "https://localhost:8080/"
        },
        "id": "ibP9wYedxWGc",
        "outputId": "b90509c4-e4d6-4463-8afd-54c179976cca"
      },
      "execution_count": 47,
      "outputs": [
        {
          "output_type": "stream",
          "name": "stdout",
          "text": [
            "the final converged point for new parameters is [-0.14285686  0.78571409]\n"
          ]
        }
      ]
    },
    {
      "cell_type": "markdown",
      "source": [
        "We can see that the final converged point is the same even after changing the initial points."
      ],
      "metadata": {
        "id": "hKOsDgBMyMS2"
      }
    },
    {
      "cell_type": "markdown",
      "source": [
        "Plotting the log-linear graph for the new initial point"
      ],
      "metadata": {
        "id": "XjHJ7Wn4jpsJ"
      }
    },
    {
      "cell_type": "code",
      "source": [
        "plotfunc(F)"
      ],
      "metadata": {
        "colab": {
          "base_uri": "https://localhost:8080/",
          "height": 296
        },
        "id": "wr57X73Ej20-",
        "outputId": "4c96e431-10cd-4dcb-f67e-0c23b8518dde"
      },
      "execution_count": 48,
      "outputs": [
        {
          "output_type": "execute_result",
          "data": {
            "text/plain": [
              "<function matplotlib.pyplot.show(*args, **kw)>"
            ]
          },
          "metadata": {},
          "execution_count": 48
        },
        {
          "output_type": "display_data",
          "data": {
            "text/plain": [
              "<Figure size 432x288 with 1 Axes>"
            ],
            "image/png": "[encoded data removed]"
          },
          "metadata": {
            "needs_background": "light"
          }
        }
      ]
    },
    {
      "cell_type": "markdown",
      "source": [
        "Again Defining new initial parameters and Hessian for the main function for implementing the Newton's method\n",
        "Note: the Hessian matrix is a constant matrix"
      ],
      "metadata": {
        "id": "zsaqPCf-zK7k"
      }
    },
    {
      "cell_type": "code",
      "source": [
        "t=0.5\n",
        "alpha=1\n",
        "x0 = np.array([13,21])\n",
        "H=np.array([[10,12],[12,20]])"
      ],
      "metadata": {
        "id": "xf8DYQleiI7R"
      },
      "execution_count": 49,
      "outputs": []
    },
    {
      "cell_type": "markdown",
      "source": [
        "Algorithm for the Newton's method solver"
      ],
      "metadata": {
        "id": "np2lUosizdvt"
      }
    },
    {
      "cell_type": "code",
      "source": [
        "F_new=[]\n",
        "F_new.append(f(x0))\n",
        "G = np.linalg.norm(g(x0))\n",
        "\n",
        "while G>1e-6:\n",
        "\n",
        "  i=0\n",
        "  while f(x0 - alpha*np.matmul(np.linalg.inv(H),g(x0)))>(f(x0)-0.5*t*alpha*np.matmul(np.transpose(g(x0)),np.matmul(np.linalg.inv(H),g(x0)))):\n",
        "    alpha=0.5*alpha\n",
        "    G=np.linalg.norm(g(x0))\n",
        "    i += 1\n",
        "    if i==100:\n",
        "      break\n",
        "\n",
        "  x0 = x0 - alpha*np.matmul(np.linalg.inv(H),g(x0))\n",
        "  F_new.append(f(x0))\n",
        "  G = np.linalg.norm(g(x0))\n",
        "  alpha = 1\n",
        "\n",
        "F_new=np.array(F_new)\n",
        "\n",
        "print('the final converged point is', x0)"
      ],
      "metadata": {
        "id": "DnHT7c9AZQ_3",
        "colab": {
          "base_uri": "https://localhost:8080/"
        },
        "outputId": "95a5f8f0-f0db-4f77-81b9-df7f08927ec5"
      },
      "execution_count": 50,
      "outputs": [
        {
          "output_type": "stream",
          "name": "stdout",
          "text": [
            "the final converged point is [-0.14285714  0.78571429]\n"
          ]
        }
      ]
    },
    {
      "cell_type": "markdown",
      "source": [
        "Plotting the log linear graph for convergence"
      ],
      "metadata": {
        "id": "CQZH21VlicNi"
      }
    },
    {
      "cell_type": "code",
      "source": [
        "plotfunc(F_new)"
      ],
      "metadata": {
        "colab": {
          "base_uri": "https://localhost:8080/",
          "height": 296
        },
        "id": "3FLazXswieX7",
        "outputId": "0b6f00e0-4b73-4884-cb91-dce0a78f7dcd"
      },
      "execution_count": 51,
      "outputs": [
        {
          "output_type": "execute_result",
          "data": {
            "text/plain": [
              "<function matplotlib.pyplot.show(*args, **kw)>"
            ]
          },
          "metadata": {},
          "execution_count": 51
        },
        {
          "output_type": "display_data",
          "data": {
            "text/plain": [
              "<Figure size 432x288 with 1 Axes>"
            ],
            "image/png": "[encoded data removed]"
          },
          "metadata": {
            "needs_background": "light"
          }
        }
      ]
    },
    {
      "cell_type": "markdown",
      "source": [
        "Changing the inital point and calculating again"
      ],
      "metadata": {
        "id": "YGC7Zhlj0B4m"
      }
    },
    {
      "cell_type": "code",
      "source": [
        "t=0.5\n",
        "alpha=1\n",
        "x0 = np.array([1,1])\n",
        "H=np.array([[10,12],[12,20]])\n",
        "\n",
        "F_new=[]\n",
        "F_new.append(f(x0))\n",
        "G = np.linalg.norm(g(x0))\n",
        "\n",
        "while G>1e-6:\n",
        "\n",
        "  i=0\n",
        "  while f(x0 - alpha*np.matmul(np.linalg.inv(H),g(x0)))>(f(x0)-0.5*t*alpha*np.matmul(np.transpose(g(x0)),np.matmul(np.linalg.inv(H),g(x0)))):\n",
        "    alpha=0.5*alpha\n",
        "    G=np.linalg.norm(g(x0))\n",
        "    i += 1\n",
        "    if i==100:\n",
        "      break\n",
        "\n",
        "  x0 = x0 - alpha*np.matmul(np.linalg.inv(H),g(x0))\n",
        "  F_new.append(f(x0))\n",
        "  G = np.linalg.norm(g(x0))\n",
        "  alpha = 1\n",
        "\n",
        "F_new=np.array(F_new)\n",
        "\n",
        "print('the final converged point for new parameters is', x0)"
      ],
      "metadata": {
        "colab": {
          "base_uri": "https://localhost:8080/"
        },
        "id": "WWCq5rRJz1HA",
        "outputId": "ca2d1331-07c0-469c-d7e6-960b99b71210"
      },
      "execution_count": 52,
      "outputs": [
        {
          "output_type": "stream",
          "name": "stdout",
          "text": [
            "the final converged point for new parameters is [-0.14285714  0.78571429]\n"
          ]
        }
      ]
    },
    {
      "cell_type": "markdown",
      "source": [
        "Plotting the log linear graph for convergence"
      ],
      "metadata": {
        "id": "mowMZ6EL0OUB"
      }
    },
    {
      "cell_type": "code",
      "source": [
        "plotfunc(F_new)"
      ],
      "metadata": {
        "colab": {
          "base_uri": "https://localhost:8080/",
          "height": 296
        },
        "id": "cFWfaSvpicPu",
        "outputId": "117e1ff1-a455-46bb-8152-f8248f96f761"
      },
      "execution_count": 53,
      "outputs": [
        {
          "output_type": "execute_result",
          "data": {
            "text/plain": [
              "<function matplotlib.pyplot.show(*args, **kw)>"
            ]
          },
          "metadata": {},
          "execution_count": 53
        },
        {
          "output_type": "display_data",
          "data": {
            "text/plain": [
              "<Figure size 432x288 with 1 Axes>"
            ],
            "image/png": "[encoded data removed]"
          },
          "metadata": {
            "needs_background": "light"
          }
        }
      ]
    },
    {
      "cell_type": "markdown",
      "source": [
        "We can see that both the GD and Newton's method converge to the same point as calculated from the analytical way in 2 a) and both produce the expected log linear plot for error too."
      ],
      "metadata": {
        "id": "UHttsA7l1tAG"
      }
    },
    {
      "cell_type": "code",
      "source": [],
      "metadata": {
        "id": "mhQCciyAArXC"
      },
      "execution_count": 53,
      "outputs": []
    }
  ]
}