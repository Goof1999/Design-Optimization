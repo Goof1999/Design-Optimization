{
  "nbformat": 4,
  "nbformat_minor": 0,
  "metadata": {
    "colab": {
      "provenance": [],
      "collapsed_sections": []
    },
    "kernelspec": {
      "name": "python3",
      "display_name": "Python 3"
    },
    "language_info": {
      "name": "python"
    }
  },
  "cells": [
    {
      "cell_type": "markdown",
      "source": [
        "MAE 598: Design Optimization\n",
        "\n",
        "Homework 3\n",
        "\n",
        "Problem 1:"
      ],
      "metadata": {
        "id": "QSpPYyz74H_w"
      }
    },
    {
      "cell_type": "markdown",
      "source": [
        "Importing libraries"
      ],
      "metadata": {
        "id": "Svqgs7HVXCfW"
      }
    },
    {
      "cell_type": "code",
      "execution_count": 95,
      "metadata": {
        "id": "T3dCwYm7Uz_p"
      },
      "outputs": [],
      "source": [
        "import torch as tr\n",
        "import numpy as np\n",
        "from torch.autograd import Variable"
      ]
    },
    {
      "cell_type": "markdown",
      "source": [
        "Setting up the least squares problem"
      ],
      "metadata": {
        "id": "Kd4iQuR8XFqs"
      }
    },
    {
      "cell_type": "code",
      "source": [
        "x1 = np.array([0.0, 0.1, 0.2, 0.3, 0.4, 0.5, 0.6, 0.7, 0.8, 0.9, 1.0])\n",
        "x2 = 1-x1\n",
        "x1 = tr.tensor(x1, requires_grad=False, dtype=tr.float32) # Converting the array to tensor\n",
        "x2 = tr.tensor(x2, requires_grad=False, dtype=tr.float32)\n",
        "a=np.array([[8.07131, 1730.63, 233.426], [7.43155, 1554.679, 240.337]])\n",
        "T = 20 # Keeping the temperature in Celcius\n",
        "psat_w = 10**(a[0,0]-a[0,1]/(T+a[0,2]))\n",
        "psat_di = 10**(a[1,0]-a[1,1]/(T+a[1,2]))\n",
        "p = np.array([28.1, 34.4, 36.7, 36.9, 36.8, 36.7, 36.5, 35.4, 32.9, 27.7, 17.5]) \n",
        "p = tr.tensor(p, requires_grad=False, dtype=tr.float32)\n",
        "\n",
        "# Inital guess for A is (1,1)\n",
        "A = Variable(tr.tensor([1.0, 1.0]), requires_grad=True)\n"
      ],
      "metadata": {
        "id": "5WbTaODdVY-i"
      },
      "execution_count": 96,
      "outputs": []
    },
    {
      "cell_type": "markdown",
      "source": [
        "Using the gradient descent method to optimize the model to fit the data"
      ],
      "metadata": {
        "id": "0Vpx4YSMAfL7"
      }
    },
    {
      "cell_type": "code",
      "source": [
        "c = 0.0001 # Step size\n",
        "for i in range(1000): # Using 1000 iterations\n",
        "  pred = x1*tr.exp(A[0] * (A[1] * x2 / (A[0] * x1 + A[1] * x2))**2)*psat_w + x2*tr.exp(A[1] * (A[0] * x1 / (A[0] * x1 + A[1] * x2))**2)*psat_di\n",
        "\n",
        "  loss = (pred-p)**2 # Squared loss\n",
        "  loss = loss.sum()\n",
        "\n",
        "  loss.backward()\n",
        "\n",
        "  with tr.no_grad(): #Gradient descent steps\n",
        "    A -= c*A.grad\n",
        "    A.grad.zero_()\n",
        "\n",
        "print('The optimized values for A12 and A21 are ',A.data.numpy())\n",
        "print('Least squared error for the optimized model is ',loss.data.numpy())"
      ],
      "metadata": {
        "colab": {
          "base_uri": "https://localhost:8080/"
        },
        "id": "4r7UbJ1wWwLO",
        "outputId": "117c98ca-8c10-4826-d48a-2691799d477c"
      },
      "execution_count": 97,
      "outputs": [
        {
          "output_type": "stream",
          "name": "stdout",
          "text": [
            "The optimized values for A12 and A21 are  [1.9584141 1.68919  ]\n",
            "Least squared error for the optimized model is  0.67018914\n"
          ]
        }
      ]
    },
    {
      "cell_type": "markdown",
      "source": [
        "Plotting the optimized model with the data for comparison"
      ],
      "metadata": {
        "id": "DUeADTNM_fwV"
      }
    },
    {
      "cell_type": "code",
      "source": [
        "import matplotlib.pyplot as plt"
      ],
      "metadata": {
        "id": "_dR5kATGgoF_"
      },
      "execution_count": 98,
      "outputs": []
    },
    {
      "cell_type": "code",
      "source": [
        "plt.plot(x1, pred.data.numpy(),label='Predicted pressure')\n",
        "plt.plot(x1, p.data.numpy(),label='Given pressure data')\n",
        "plt.legend()\n",
        "plt.xlabel('x1')\n",
        "plt.ylabel('Pressure')"
      ],
      "metadata": {
        "colab": {
          "base_uri": "https://localhost:8080/",
          "height": 297
        },
        "id": "LdKV9kU4hEVu",
        "outputId": "05491bfe-9673-40ec-aaf7-dc64fa245711"
      },
      "execution_count": 99,
      "outputs": [
        {
          "output_type": "execute_result",
          "data": {
            "text/plain": [
              "Text(0, 0.5, 'Pressure')"
            ]
          },
          "metadata": {},
          "execution_count": 99
        },
        {
          "output_type": "display_data",
          "data": {
            "text/plain": [
              "<Figure size 432x288 with 1 Axes>"
            ],
            "image/png": "[encoded data removed]"
          },
          "metadata": {
            "needs_background": "light"
          }
        }
      ]
    },
    {
      "cell_type": "markdown",
      "source": [
        "We can see that the optimized model fits very well with the given data and we can confidently say its a good model"
      ],
      "metadata": {
        "id": "42IeoIR4_yjO"
      }
    },
    {
      "cell_type": "markdown",
      "source": [
        "Problem 2:\n",
        "\n",
        "Instaling the off the shelf libraries for Bayesian Optimiser"
      ],
      "metadata": {
        "id": "dfkIBSLEohNO"
      }
    },
    {
      "cell_type": "code",
      "source": [
        "!pip install git+https://github.com/fmfn/BayesianOptimization.git"
      ],
      "metadata": {
        "id": "L1vzgfBAu5uD",
        "outputId": "7cc44343-36cb-4446-c847-f601d301aa9e",
        "colab": {
          "base_uri": "https://localhost:8080/"
        }
      },
      "execution_count": 100,
      "outputs": [
        {
          "output_type": "stream",
          "name": "stdout",
          "text": [
            "Looking in indexes: https://pypi.org/simple, https://us-python.pkg.dev/colab-wheels/public/simple/\n",
            "Collecting git+https://github.com/fmfn/BayesianOptimization.git\n",
            "  Cloning https://github.com/fmfn/BayesianOptimization.git to /tmp/pip-req-build-fk2j_s0g\n",
            "  Running command git clone -q https://github.com/fmfn/BayesianOptimization.git /tmp/pip-req-build-fk2j_s0g\n",
            "Requirement already satisfied: numpy>=1.9.0 in /usr/local/lib/python3.7/dist-packages (from bayesian-optimization==1.3.0) (1.21.6)\n",
            "Requirement already satisfied: scipy>=1.0.0 in /usr/local/lib/python3.7/dist-packages (from bayesian-optimization==1.3.0) (1.7.3)\n",
            "Requirement already satisfied: scikit-learn>=0.18.0 in /usr/local/lib/python3.7/dist-packages (from bayesian-optimization==1.3.0) (1.0.2)\n",
            "Requirement already satisfied: joblib>=0.11 in /usr/local/lib/python3.7/dist-packages (from scikit-learn>=0.18.0->bayesian-optimization==1.3.0) (1.2.0)\n",
            "Requirement already satisfied: threadpoolctl>=2.0.0 in /usr/local/lib/python3.7/dist-packages (from scikit-learn>=0.18.0->bayesian-optimization==1.3.0) (3.1.0)\n"
          ]
        }
      ]
    },
    {
      "cell_type": "markdown",
      "source": [
        "Defining the function to be optimized"
      ],
      "metadata": {
        "id": "XsPvMMmMBXuk"
      }
    },
    {
      "cell_type": "code",
      "source": [
        "def black_box_function(x1, x2):\n",
        "    return -1*((4-2.1*x1**2+(x1**4)/3)*x1**2 + x1*x2 + (-4+4*x2**2)*x2**2)\n",
        "    # Note: We multply the whole function with -1 because the optimizer that we are using can only optimize for the maximum value of the function\n",
        "    # But as we need the minimum value, we can multiply with -1 and then find the maximum value and use the x1 and x2 points to then find the optimal point"
      ],
      "metadata": {
        "id": "9eZHnVFxhcf1"
      },
      "execution_count": 101,
      "outputs": []
    },
    {
      "cell_type": "markdown",
      "source": [
        "Using the Bayesian Optimizer"
      ],
      "metadata": {
        "id": "howQJYOWD-2V"
      }
    },
    {
      "cell_type": "code",
      "source": [
        "from bayes_opt import BayesianOptimization\n",
        "\n",
        "# Bounded region of parameter space\n",
        "pbounds = {'x1': (-3, 3), 'x2': (-2, 2)}\n",
        "\n",
        "# Setting up the optimizer\n",
        "optimizer = BayesianOptimization(\n",
        "    f=black_box_function,\n",
        "    pbounds=pbounds,\n",
        "    random_state=1,\n",
        ")"
      ],
      "metadata": {
        "id": "4ezPI5z1olFS"
      },
      "execution_count": 102,
      "outputs": []
    },
    {
      "cell_type": "code",
      "source": [
        "# Using the optimizer to optimize with specified iteration\n",
        "optimizer.maximize(\n",
        "    init_points=10,\n",
        "    n_iter=50,\n",
        ")"
      ],
      "metadata": {
        "id": "LSqFIOlQpTir",
        "outputId": "059c9133-f7c9-4c21-b18d-2fd7dfc4d0f2",
        "colab": {
          "base_uri": "https://localhost:8080/"
        }
      },
      "execution_count": 103,
      "outputs": [
        {
          "output_type": "stream",
          "name": "stdout",
          "text": [
            "|   iter    |  target   |    x1     |    x2     |\n",
            "-------------------------------------------------\n",
            "| \u001b[0m1        \u001b[0m | \u001b[0m0.265    \u001b[0m | \u001b[0m-0.4979  \u001b[0m | \u001b[0m0.8813   \u001b[0m |\n",
            "| \u001b[0m2        \u001b[0m | \u001b[0m-110.1   \u001b[0m | \u001b[0m-2.999   \u001b[0m | \u001b[0m-0.7907  \u001b[0m |\n",
            "| \u001b[0m3        \u001b[0m | \u001b[0m-26.91   \u001b[0m | \u001b[0m-2.119   \u001b[0m | \u001b[0m-1.631   \u001b[0m |\n",
            "| \u001b[0m4        \u001b[0m | \u001b[0m-2.856   \u001b[0m | \u001b[0m-1.882   \u001b[0m | \u001b[0m-0.6178  \u001b[0m |\n",
            "| \u001b[0m5        \u001b[0m | \u001b[0m-1.054   \u001b[0m | \u001b[0m-0.6194  \u001b[0m | \u001b[0m0.1553   \u001b[0m |\n",
            "| \u001b[95m6        \u001b[0m | \u001b[95m0.5211   \u001b[0m | \u001b[95m-0.4848  \u001b[0m | \u001b[95m0.7409   \u001b[0m |\n",
            "| \u001b[0m7        \u001b[0m | \u001b[0m-11.28   \u001b[0m | \u001b[0m-1.773   \u001b[0m | \u001b[0m1.512    \u001b[0m |\n",
            "| \u001b[0m8        \u001b[0m | \u001b[0m-66.76   \u001b[0m | \u001b[0m-2.836   \u001b[0m | \u001b[0m0.6819   \u001b[0m |\n",
            "| \u001b[0m9        \u001b[0m | \u001b[0m-0.5377  \u001b[0m | \u001b[0m-0.4962  \u001b[0m | \u001b[0m0.2348   \u001b[0m |\n",
            "| \u001b[0m10       \u001b[0m | \u001b[0m-12.02   \u001b[0m | \u001b[0m-2.158   \u001b[0m | \u001b[0m-1.208   \u001b[0m |\n",
            "| \u001b[0m11       \u001b[0m | \u001b[0m-6.707   \u001b[0m | \u001b[0m-0.6913  \u001b[0m | \u001b[0m-1.287   \u001b[0m |\n",
            "| \u001b[0m12       \u001b[0m | \u001b[0m-4.507   \u001b[0m | \u001b[0m1.223    \u001b[0m | \u001b[0m1.081    \u001b[0m |\n",
            "| \u001b[0m13       \u001b[0m | \u001b[0m-0.5198  \u001b[0m | \u001b[0m1.354    \u001b[0m | \u001b[0m-0.6292  \u001b[0m |\n",
            "| \u001b[0m14       \u001b[0m | \u001b[0m-65.32   \u001b[0m | \u001b[0m2.812    \u001b[0m | \u001b[0m0.1161   \u001b[0m |\n",
            "| \u001b[0m15       \u001b[0m | \u001b[0m-48.23   \u001b[0m | \u001b[0m1.016    \u001b[0m | \u001b[0m-2.0     \u001b[0m |\n",
            "| \u001b[0m16       \u001b[0m | \u001b[0m-49.11   \u001b[0m | \u001b[0m0.3388   \u001b[0m | \u001b[0m2.0      \u001b[0m |\n",
            "| \u001b[0m17       \u001b[0m | \u001b[0m-1.532   \u001b[0m | \u001b[0m0.7023   \u001b[0m | \u001b[0m0.103    \u001b[0m |\n",
            "| \u001b[0m18       \u001b[0m | \u001b[0m-68.92   \u001b[0m | \u001b[0m2.385    \u001b[0m | \u001b[0m2.0      \u001b[0m |\n",
            "| \u001b[0m19       \u001b[0m | \u001b[0m-150.9   \u001b[0m | \u001b[0m3.0      \u001b[0m | \u001b[0m-2.0     \u001b[0m |\n",
            "| \u001b[0m20       \u001b[0m | \u001b[0m-150.9   \u001b[0m | \u001b[0m-3.0     \u001b[0m | \u001b[0m2.0      \u001b[0m |\n",
            "| \u001b[95m21       \u001b[0m | \u001b[95m0.626    \u001b[0m | \u001b[95m0.3658   \u001b[0m | \u001b[95m-0.8456  \u001b[0m |\n",
            "| \u001b[0m22       \u001b[0m | \u001b[0m-0.0896  \u001b[0m | \u001b[0m-1.509   \u001b[0m | \u001b[0m0.7057   \u001b[0m |\n",
            "| \u001b[0m23       \u001b[0m | \u001b[0m-48.22   \u001b[0m | \u001b[0m-1.022   \u001b[0m | \u001b[0m2.0      \u001b[0m |\n",
            "| \u001b[0m24       \u001b[0m | \u001b[0m-2.243   \u001b[0m | \u001b[0m1.573    \u001b[0m | \u001b[0m0.2764   \u001b[0m |\n",
            "| \u001b[0m25       \u001b[0m | \u001b[0m-4.215   \u001b[0m | \u001b[0m-1.416   \u001b[0m | \u001b[0m-1.051   \u001b[0m |\n",
            "| \u001b[0m26       \u001b[0m | \u001b[0m-48.84   \u001b[0m | \u001b[0m-0.2759  \u001b[0m | \u001b[0m-2.0     \u001b[0m |\n",
            "| \u001b[0m27       \u001b[0m | \u001b[0m0.1817   \u001b[0m | \u001b[0m-0.374   \u001b[0m | \u001b[0m-0.6042  \u001b[0m |\n",
            "| \u001b[0m28       \u001b[0m | \u001b[0m-0.276   \u001b[0m | \u001b[0m0.3921   \u001b[0m | \u001b[0m0.8941   \u001b[0m |\n",
            "| \u001b[0m29       \u001b[0m | \u001b[0m-2.63    \u001b[0m | \u001b[0m-1.208   \u001b[0m | \u001b[0m1.144    \u001b[0m |\n",
            "| \u001b[0m30       \u001b[0m | \u001b[0m-2.447   \u001b[0m | \u001b[0m-1.332   \u001b[0m | \u001b[0m-0.2503  \u001b[0m |\n",
            "| \u001b[0m31       \u001b[0m | \u001b[0m-0.774   \u001b[0m | \u001b[0m0.8767   \u001b[0m | \u001b[0m-0.508   \u001b[0m |\n",
            "| \u001b[0m32       \u001b[0m | \u001b[0m-1.988   \u001b[0m | \u001b[0m1.034    \u001b[0m | \u001b[0m0.5836   \u001b[0m |\n",
            "| \u001b[0m33       \u001b[0m | \u001b[0m0.1815   \u001b[0m | \u001b[0m0.1361   \u001b[0m | \u001b[0m-0.2427  \u001b[0m |\n",
            "| \u001b[0m34       \u001b[0m | \u001b[0m-1.987   \u001b[0m | \u001b[0m1.345    \u001b[0m | \u001b[0m-0.1736  \u001b[0m |\n",
            "| \u001b[0m35       \u001b[0m | \u001b[0m-2.024   \u001b[0m | \u001b[0m0.9383   \u001b[0m | \u001b[0m-1.093   \u001b[0m |\n",
            "| \u001b[0m36       \u001b[0m | \u001b[0m0.5136   \u001b[0m | \u001b[0m0.1383   \u001b[0m | \u001b[0m0.4528   \u001b[0m |\n",
            "| \u001b[0m37       \u001b[0m | \u001b[0m-0.478   \u001b[0m | \u001b[0m-1.839   \u001b[0m | \u001b[0m0.9853   \u001b[0m |\n",
            "| \u001b[0m38       \u001b[0m | \u001b[0m-1.97    \u001b[0m | \u001b[0m-1.837   \u001b[0m | \u001b[0m0.1696   \u001b[0m |\n",
            "| \u001b[0m39       \u001b[0m | \u001b[0m-0.7324  \u001b[0m | \u001b[0m-0.1254  \u001b[0m | \u001b[0m-1.058   \u001b[0m |\n",
            "| \u001b[0m40       \u001b[0m | \u001b[0m-2.699   \u001b[0m | \u001b[0m1.764    \u001b[0m | \u001b[0m0.8146   \u001b[0m |\n",
            "| \u001b[0m41       \u001b[0m | \u001b[0m0.4918   \u001b[0m | \u001b[0m-0.06086 \u001b[0m | \u001b[0m0.9332   \u001b[0m |\n",
            "| \u001b[0m42       \u001b[0m | \u001b[0m-1.628   \u001b[0m | \u001b[0m-0.869   \u001b[0m | \u001b[0m-0.7465  \u001b[0m |\n",
            "| \u001b[0m43       \u001b[0m | \u001b[0m-0.73    \u001b[0m | \u001b[0m-0.9862  \u001b[0m | \u001b[0m0.5863   \u001b[0m |\n",
            "| \u001b[95m44       \u001b[0m | \u001b[95m1.011    \u001b[0m | \u001b[95m0.02789  \u001b[0m | \u001b[95m-0.6824  \u001b[0m |\n",
            "| \u001b[0m45       \u001b[0m | \u001b[0m-2.237   \u001b[0m | \u001b[0m1.43     \u001b[0m | \u001b[0m0.6894   \u001b[0m |\n",
            "| \u001b[0m46       \u001b[0m | \u001b[0m-1.75    \u001b[0m | \u001b[0m-1.419   \u001b[0m | \u001b[0m0.2248   \u001b[0m |\n",
            "| \u001b[0m47       \u001b[0m | \u001b[0m-1.557   \u001b[0m | \u001b[0m-1.56    \u001b[0m | \u001b[0m1.114    \u001b[0m |\n",
            "| \u001b[0m48       \u001b[0m | \u001b[0m-0.5286  \u001b[0m | \u001b[0m-1.868   \u001b[0m | \u001b[0m0.5935   \u001b[0m |\n",
            "| \u001b[0m49       \u001b[0m | \u001b[0m-0.2196  \u001b[0m | \u001b[0m-0.2621  \u001b[0m | \u001b[0m-0.1462  \u001b[0m |\n",
            "| \u001b[0m50       \u001b[0m | \u001b[0m-4.007   \u001b[0m | \u001b[0m-1.796   \u001b[0m | \u001b[0m-0.9969  \u001b[0m |\n",
            "| \u001b[0m51       \u001b[0m | \u001b[0m-0.4914  \u001b[0m | \u001b[0m0.5473   \u001b[0m | \u001b[0m0.5372   \u001b[0m |\n",
            "| \u001b[0m52       \u001b[0m | \u001b[0m-0.526   \u001b[0m | \u001b[0m1.042    \u001b[0m | \u001b[0m-0.763   \u001b[0m |\n",
            "| \u001b[0m53       \u001b[0m | \u001b[0m-1.25    \u001b[0m | \u001b[0m1.731    \u001b[0m | \u001b[0m-0.3005  \u001b[0m |\n",
            "| \u001b[0m54       \u001b[0m | \u001b[0m0.2053   \u001b[0m | \u001b[0m0.4553   \u001b[0m | \u001b[0m-0.4877  \u001b[0m |\n",
            "| \u001b[0m55       \u001b[0m | \u001b[0m-0.6785  \u001b[0m | \u001b[0m-0.4609  \u001b[0m | \u001b[0m-0.9229  \u001b[0m |\n",
            "| \u001b[95m56       \u001b[0m | \u001b[95m1.012    \u001b[0m | \u001b[95m-0.107   \u001b[0m | \u001b[95m0.664    \u001b[0m |\n",
            "| \u001b[0m57       \u001b[0m | \u001b[0m-2.143   \u001b[0m | \u001b[0m-1.514   \u001b[0m | \u001b[0m-0.6249  \u001b[0m |\n",
            "| \u001b[0m58       \u001b[0m | \u001b[0m-2.442   \u001b[0m | \u001b[0m0.4995   \u001b[0m | \u001b[0m-1.178   \u001b[0m |\n",
            "| \u001b[0m59       \u001b[0m | \u001b[0m-0.1472  \u001b[0m | \u001b[0m0.6909   \u001b[0m | \u001b[0m-0.8758  \u001b[0m |\n",
            "| \u001b[0m60       \u001b[0m | \u001b[0m-0.3415  \u001b[0m | \u001b[0m0.2988   \u001b[0m | \u001b[0m0.07199  \u001b[0m |\n",
            "=================================================\n"
          ]
        }
      ]
    },
    {
      "cell_type": "code",
      "source": [
        "optimizer.max"
      ],
      "metadata": {
        "id": "Q64dfIroGACR",
        "outputId": "67a63a50-3c3a-4262-9d21-fbbdb3ff3fb2",
        "colab": {
          "base_uri": "https://localhost:8080/"
        }
      },
      "execution_count": 104,
      "outputs": [
        {
          "output_type": "execute_result",
          "data": {
            "text/plain": [
              "{'target': 1.0115704394498088,\n",
              " 'params': {'x1': -0.10700282912859552, 'x2': 0.6640235693051855}}"
            ]
          },
          "metadata": {},
          "execution_count": 104
        }
      ]
    },
    {
      "cell_type": "markdown",
      "source": [
        "We get the x1 and x2 points as (-0.10700282912859552, 0.6640235693051855)\n",
        "\n",
        "We can calculate the function value as negative of the target value -1*1.0115704394498088\n",
        "\n",
        "=-1.0115704394498088\n",
        "\n",
        "Thus we get the optimized point for the function using Bayesian Optimization"
      ],
      "metadata": {
        "id": "Tj-A9n5fJf2m"
      }
    }
  ]
}